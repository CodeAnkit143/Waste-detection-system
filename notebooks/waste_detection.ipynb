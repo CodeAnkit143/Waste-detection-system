{
 "cells": [
  {
   "cell_type": "markdown",
   "id": "caaf189e",
   "metadata": {},
   "source": [
    "# Waste Detection Notebook\n",
    "This notebook contains EDA, quick training snippets, and instructions.\n"
   ]
  },
  {
   "cell_type": "code",
   "execution_count": 1,
   "id": "7ca6b81f",
   "metadata": {},
   "outputs": [
    {
     "name": "stdout",
     "output_type": "stream",
     "text": [
      "Set DATASET_DIR in src/split_dataset.py and run it from terminal\n"
     ]
    }
   ],
   "source": [
    "# Set dataset path and run the split script\n",
    "DATASET_DIR = 'archive\\garbage_classification'\n",
    "print('Set DATASET_DIR in src/split_dataset.py and run it from terminal')\n"
   ]
  },
  {
   "cell_type": "code",
   "execution_count": null,
   "id": "1958b6d6-5f4d-455f-bfae-1dbfa1a30f3c",
   "metadata": {},
   "outputs": [],
   "source": []
  }
 ],
 "metadata": {
  "kernelspec": {
   "display_name": "Python 3 (ipykernel)",
   "language": "python",
   "name": "python3"
  },
  "language_info": {
   "codemirror_mode": {
    "name": "ipython",
    "version": 3
   },
   "file_extension": ".py",
   "mimetype": "text/x-python",
   "name": "python",
   "nbconvert_exporter": "python",
   "pygments_lexer": "ipython3",
   "version": "3.11.9"
  }
 },
 "nbformat": 4,
 "nbformat_minor": 5
}
